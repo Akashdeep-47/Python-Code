{
  "nbformat": 4,
  "nbformat_minor": 0,
  "metadata": {
    "colab": {
      "name": "Experiment 4.ipynb",
      "provenance": [],
      "authorship_tag": "ABX9TyMh+lke07RKMCFpT382+CqN",
      "include_colab_link": true
    },
    "kernelspec": {
      "name": "python3",
      "display_name": "Python 3"
    },
    "language_info": {
      "name": "python"
    }
  },
  "cells": [
    {
      "cell_type": "markdown",
      "metadata": {
        "id": "view-in-github",
        "colab_type": "text"
      },
      "source": [
        "<a href=\"https://colab.research.google.com/github/Akashdeep-47/Python-Code/blob/master/Experiment_4.ipynb\" target=\"_parent\"><img src=\"https://colab.research.google.com/assets/colab-badge.svg\" alt=\"Open In Colab\"/></a>"
      ]
    },
    {
      "cell_type": "code",
      "execution_count": 1,
      "metadata": {
        "id": "bTRKaQyv9kpq"
      },
      "outputs": [],
      "source": [
        "import numpy as np"
      ]
    },
    {
      "cell_type": "code",
      "source": [
        "a = np.array([[1, 2], [3, 5]])\n",
        "b = np.array([[2, 5], [4, 5]])"
      ],
      "metadata": {
        "id": "9PArI3x-988K"
      },
      "execution_count": 4,
      "outputs": []
    },
    {
      "cell_type": "code",
      "source": [
        "print(\"Add : \", a+b)\n",
        "print(\"Subtract : \", a-b)\n",
        "print(\"Multiply : \", a*b)\n",
        "print(\"Divide : \", a/b)\n",
        "print(\"Transpose of a : \", a.transpose())\n",
        "print(\"Transpose of b : \", b.transpose())"
      ],
      "metadata": {
        "colab": {
          "base_uri": "https://localhost:8080/"
        },
        "id": "wLYVGiTr-Mk6",
        "outputId": "9ee5ef25-1a29-4a83-95b7-942c996e7573"
      },
      "execution_count": 6,
      "outputs": [
        {
          "output_type": "stream",
          "name": "stdout",
          "text": [
            "Add :  [[ 3  7]\n",
            " [ 7 10]]\n",
            "Subtract :  [[-1 -3]\n",
            " [-1  0]]\n",
            "Multiply :  [[ 2 10]\n",
            " [12 25]]\n",
            "Divide :  [[0.5  0.4 ]\n",
            " [0.75 1.  ]]\n",
            "Transpose of a :  [[1 3]\n",
            " [2 5]]\n",
            "Transpose of b :  [[2 4]\n",
            " [5 5]]\n"
          ]
        }
      ]
    },
    {
      "cell_type": "code",
      "source": [
        ""
      ],
      "metadata": {
        "id": "PpHACCXZEiG1"
      },
      "execution_count": null,
      "outputs": []
    }
  ]
}