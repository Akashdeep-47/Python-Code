{
  "cells": [
    {
      "cell_type": "markdown",
      "metadata": {
        "id": "view-in-github",
        "colab_type": "text"
      },
      "source": [
        "<a href=\"https://colab.research.google.com/github/Akashdeep-47/Python-Code/blob/master/Experiment_5.ipynb\" target=\"_parent\"><img src=\"https://colab.research.google.com/assets/colab-badge.svg\" alt=\"Open In Colab\"/></a>"
      ]
    },
    {
      "cell_type": "code",
      "execution_count": 1,
      "metadata": {
        "id": "jO2FHPiw4W7w"
      },
      "outputs": [],
      "source": [
        "import pandas as pd\n",
        "import numpy as np\n",
        "import matplotlib.pyplot as plt\n"
      ]
    },
    {
      "cell_type": "code",
      "execution_count": 2,
      "metadata": {
        "colab": {
          "base_uri": "https://localhost:8080/",
          "height": 206
        },
        "id": "OcGBs5BE5FZ3",
        "outputId": "7cc1e3e0-12a7-4088-ba59-601cab4bc02a"
      },
      "outputs": [
        {
          "output_type": "execute_result",
          "data": {
            "text/html": [
              "\n",
              "  <div id=\"df-56bdacd6-43af-4f04-ac20-49e64598b7c5\">\n",
              "    <div class=\"colab-df-container\">\n",
              "      <div>\n",
              "<style scoped>\n",
              "    .dataframe tbody tr th:only-of-type {\n",
              "        vertical-align: middle;\n",
              "    }\n",
              "\n",
              "    .dataframe tbody tr th {\n",
              "        vertical-align: top;\n",
              "    }\n",
              "\n",
              "    .dataframe thead th {\n",
              "        text-align: right;\n",
              "    }\n",
              "</style>\n",
              "<table border=\"1\" class=\"dataframe\">\n",
              "  <thead>\n",
              "    <tr style=\"text-align: right;\">\n",
              "      <th></th>\n",
              "      <th>YearsExperience</th>\n",
              "      <th>Salary</th>\n",
              "    </tr>\n",
              "  </thead>\n",
              "  <tbody>\n",
              "    <tr>\n",
              "      <th>0</th>\n",
              "      <td>1.1</td>\n",
              "      <td>39343.0</td>\n",
              "    </tr>\n",
              "    <tr>\n",
              "      <th>1</th>\n",
              "      <td>1.3</td>\n",
              "      <td>46205.0</td>\n",
              "    </tr>\n",
              "    <tr>\n",
              "      <th>2</th>\n",
              "      <td>1.5</td>\n",
              "      <td>37731.0</td>\n",
              "    </tr>\n",
              "    <tr>\n",
              "      <th>3</th>\n",
              "      <td>2.0</td>\n",
              "      <td>43525.0</td>\n",
              "    </tr>\n",
              "    <tr>\n",
              "      <th>4</th>\n",
              "      <td>2.2</td>\n",
              "      <td>39891.0</td>\n",
              "    </tr>\n",
              "  </tbody>\n",
              "</table>\n",
              "</div>\n",
              "      <button class=\"colab-df-convert\" onclick=\"convertToInteractive('df-56bdacd6-43af-4f04-ac20-49e64598b7c5')\"\n",
              "              title=\"Convert this dataframe to an interactive table.\"\n",
              "              style=\"display:none;\">\n",
              "        \n",
              "  <svg xmlns=\"http://www.w3.org/2000/svg\" height=\"24px\"viewBox=\"0 0 24 24\"\n",
              "       width=\"24px\">\n",
              "    <path d=\"M0 0h24v24H0V0z\" fill=\"none\"/>\n",
              "    <path d=\"M18.56 5.44l.94 2.06.94-2.06 2.06-.94-2.06-.94-.94-2.06-.94 2.06-2.06.94zm-11 1L8.5 8.5l.94-2.06 2.06-.94-2.06-.94L8.5 2.5l-.94 2.06-2.06.94zm10 10l.94 2.06.94-2.06 2.06-.94-2.06-.94-.94-2.06-.94 2.06-2.06.94z\"/><path d=\"M17.41 7.96l-1.37-1.37c-.4-.4-.92-.59-1.43-.59-.52 0-1.04.2-1.43.59L10.3 9.45l-7.72 7.72c-.78.78-.78 2.05 0 2.83L4 21.41c.39.39.9.59 1.41.59.51 0 1.02-.2 1.41-.59l7.78-7.78 2.81-2.81c.8-.78.8-2.07 0-2.86zM5.41 20L4 18.59l7.72-7.72 1.47 1.35L5.41 20z\"/>\n",
              "  </svg>\n",
              "      </button>\n",
              "      \n",
              "  <style>\n",
              "    .colab-df-container {\n",
              "      display:flex;\n",
              "      flex-wrap:wrap;\n",
              "      gap: 12px;\n",
              "    }\n",
              "\n",
              "    .colab-df-convert {\n",
              "      background-color: #E8F0FE;\n",
              "      border: none;\n",
              "      border-radius: 50%;\n",
              "      cursor: pointer;\n",
              "      display: none;\n",
              "      fill: #1967D2;\n",
              "      height: 32px;\n",
              "      padding: 0 0 0 0;\n",
              "      width: 32px;\n",
              "    }\n",
              "\n",
              "    .colab-df-convert:hover {\n",
              "      background-color: #E2EBFA;\n",
              "      box-shadow: 0px 1px 2px rgba(60, 64, 67, 0.3), 0px 1px 3px 1px rgba(60, 64, 67, 0.15);\n",
              "      fill: #174EA6;\n",
              "    }\n",
              "\n",
              "    [theme=dark] .colab-df-convert {\n",
              "      background-color: #3B4455;\n",
              "      fill: #D2E3FC;\n",
              "    }\n",
              "\n",
              "    [theme=dark] .colab-df-convert:hover {\n",
              "      background-color: #434B5C;\n",
              "      box-shadow: 0px 1px 3px 1px rgba(0, 0, 0, 0.15);\n",
              "      filter: drop-shadow(0px 1px 2px rgba(0, 0, 0, 0.3));\n",
              "      fill: #FFFFFF;\n",
              "    }\n",
              "  </style>\n",
              "\n",
              "      <script>\n",
              "        const buttonEl =\n",
              "          document.querySelector('#df-56bdacd6-43af-4f04-ac20-49e64598b7c5 button.colab-df-convert');\n",
              "        buttonEl.style.display =\n",
              "          google.colab.kernel.accessAllowed ? 'block' : 'none';\n",
              "\n",
              "        async function convertToInteractive(key) {\n",
              "          const element = document.querySelector('#df-56bdacd6-43af-4f04-ac20-49e64598b7c5');\n",
              "          const dataTable =\n",
              "            await google.colab.kernel.invokeFunction('convertToInteractive',\n",
              "                                                     [key], {});\n",
              "          if (!dataTable) return;\n",
              "\n",
              "          const docLinkHtml = 'Like what you see? Visit the ' +\n",
              "            '<a target=\"_blank\" href=https://colab.research.google.com/notebooks/data_table.ipynb>data table notebook</a>'\n",
              "            + ' to learn more about interactive tables.';\n",
              "          element.innerHTML = '';\n",
              "          dataTable['output_type'] = 'display_data';\n",
              "          await google.colab.output.renderOutput(dataTable, element);\n",
              "          const docLink = document.createElement('div');\n",
              "          docLink.innerHTML = docLinkHtml;\n",
              "          element.appendChild(docLink);\n",
              "        }\n",
              "      </script>\n",
              "    </div>\n",
              "  </div>\n",
              "  "
            ],
            "text/plain": [
              "   YearsExperience   Salary\n",
              "0              1.1  39343.0\n",
              "1              1.3  46205.0\n",
              "2              1.5  37731.0\n",
              "3              2.0  43525.0\n",
              "4              2.2  39891.0"
            ]
          },
          "metadata": {},
          "execution_count": 2
        }
      ],
      "source": [
        "df = pd.read_csv('Salary_Data.csv')\n",
        "df.head()"
      ]
    },
    {
      "cell_type": "code",
      "execution_count": 3,
      "metadata": {
        "colab": {
          "base_uri": "https://localhost:8080/"
        },
        "id": "NZJ3Oq375dZm",
        "outputId": "3ea99bdb-83f8-4ec6-a63e-eda0a45442d7"
      },
      "outputs": [
        {
          "output_type": "stream",
          "name": "stdout",
          "text": [
            "<class 'pandas.core.frame.DataFrame'>\n",
            "RangeIndex: 30 entries, 0 to 29\n",
            "Data columns (total 2 columns):\n",
            " #   Column           Non-Null Count  Dtype  \n",
            "---  ------           --------------  -----  \n",
            " 0   YearsExperience  30 non-null     float64\n",
            " 1   Salary           30 non-null     float64\n",
            "dtypes: float64(2)\n",
            "memory usage: 608.0 bytes\n"
          ]
        }
      ],
      "source": [
        "df.info()"
      ]
    },
    {
      "cell_type": "code",
      "execution_count": 4,
      "metadata": {
        "id": "R8HAfong5gMG"
      },
      "outputs": [],
      "source": [
        "x = df[['YearsExperience']]\n",
        "y = df['Salary']"
      ]
    },
    {
      "cell_type": "code",
      "execution_count": 5,
      "metadata": {
        "colab": {
          "base_uri": "https://localhost:8080/"
        },
        "id": "-QOkzfG85mmG",
        "outputId": "b1c7d7d9-1588-43f4-e0fb-24fc2dbbc40a"
      },
      "outputs": [
        {
          "output_type": "execute_result",
          "data": {
            "text/plain": [
              "pandas.core.frame.DataFrame"
            ]
          },
          "metadata": {},
          "execution_count": 5
        }
      ],
      "source": [
        "type(x)"
      ]
    },
    {
      "cell_type": "code",
      "execution_count": 6,
      "metadata": {
        "colab": {
          "base_uri": "https://localhost:8080/"
        },
        "id": "W6s2E0x_5pJ2",
        "outputId": "97afc2ce-6c55-4185-d48d-570fadb8e1f4"
      },
      "outputs": [
        {
          "output_type": "stream",
          "name": "stdout",
          "text": [
            "(30, 1)\n",
            "(30,)\n"
          ]
        }
      ],
      "source": [
        "print(x.shape)\n",
        "print(y.shape)"
      ]
    },
    {
      "cell_type": "code",
      "execution_count": 7,
      "metadata": {
        "id": "EXp8xExH5tuW"
      },
      "outputs": [],
      "source": [
        "### Split the data into train and test\n",
        "from sklearn.model_selection import train_test_split\n",
        "x_train, x_test, y_train, y_test = train_test_split(x, y, train_size=0.75, random_state=2)"
      ]
    },
    {
      "cell_type": "code",
      "execution_count": 8,
      "metadata": {
        "id": "xl-Gw98E59mm"
      },
      "outputs": [],
      "source": [
        "### Build the model\n",
        "from sklearn.linear_model import LinearRegression\n",
        "model = LinearRegression()"
      ]
    },
    {
      "cell_type": "code",
      "execution_count": 9,
      "metadata": {
        "colab": {
          "base_uri": "https://localhost:8080/"
        },
        "id": "NRD0-sbs6HvW",
        "outputId": "e112cea3-bfd3-4c2e-c488-12869d77ad80"
      },
      "outputs": [
        {
          "output_type": "execute_result",
          "data": {
            "text/plain": [
              "LinearRegression()"
            ]
          },
          "metadata": {},
          "execution_count": 9
        }
      ],
      "source": [
        "### Fit the model (Train the model)\n",
        "model.fit(x_train, y_train)"
      ]
    },
    {
      "cell_type": "code",
      "execution_count": 10,
      "metadata": {
        "colab": {
          "base_uri": "https://localhost:8080/"
        },
        "id": "8KQVTZ9A6Ni8",
        "outputId": "7f230eb1-1dd3-4bc9-fb95-26e31ebc6f50"
      },
      "outputs": [
        {
          "output_type": "execute_result",
          "data": {
            "text/plain": [
              "array([ 36239.85597261,  34336.22684101,  66697.92207822,  59083.40555182,\n",
              "        91445.10078903,  80975.14056523, 101915.06101284,  52420.70359122])"
            ]
          },
          "metadata": {},
          "execution_count": 10
        }
      ],
      "source": [
        "### Testing (Prediction)\n",
        "y_pred = model.predict(x_test)\n",
        "y_pred"
      ]
    },
    {
      "cell_type": "code",
      "execution_count": 11,
      "metadata": {
        "colab": {
          "base_uri": "https://localhost:8080/"
        },
        "id": "hRl710N06PUm",
        "outputId": "0fceea15-b5a1-4493-a553-eed6a21191dd"
      },
      "outputs": [
        {
          "output_type": "execute_result",
          "data": {
            "text/plain": [
              "array([ 46205.,  39343.,  61111.,  57189.,  98273.,  93940., 113812.,\n",
              "        60150.])"
            ]
          },
          "metadata": {},
          "execution_count": 11
        }
      ],
      "source": [
        "y_test.values"
      ]
    },
    {
      "cell_type": "code",
      "execution_count": 12,
      "metadata": {
        "colab": {
          "base_uri": "https://localhost:8080/"
        },
        "id": "ZrM64awT6R-G",
        "outputId": "383718e5-9737-434a-e235-4f6cbb4bdf3a"
      },
      "outputs": [
        {
          "output_type": "execute_result",
          "data": {
            "text/plain": [
              "0.8877872430356781"
            ]
          },
          "metadata": {},
          "execution_count": 12
        }
      ],
      "source": [
        "### Calculate R2 Score\n",
        "from sklearn.metrics import r2_score\n",
        "r2 = r2_score(y_test, y_pred)\n",
        "r2"
      ]
    },
    {
      "cell_type": "code",
      "execution_count": 13,
      "metadata": {
        "colab": {
          "base_uri": "https://localhost:8080/",
          "height": 374
        },
        "id": "eGY76q136T92",
        "outputId": "fdf74da8-3a56-4c52-a191-3897a0121040"
      },
      "outputs": [
        {
          "output_type": "display_data",
          "data": {
            "image/png": "[encoded data removed]",
            "text/plain": [
              "<Figure size 576x432 with 1 Axes>"
            ]
          },
          "metadata": {
            "needs_background": "light"
          }
        }
      ],
      "source": [
        "## Plot Line of Regression for Training Samples\n",
        "plt.figure(figsize=(8,6))\n",
        "plt.scatter(x_train, y_train, color='red', s=100, label=\"Actual Data\")\n",
        "plt.scatter(x_train, model.predict(x_train), color='green', s=100, label=\"Predicted_data\")\n",
        "plt.plot(x_train, model.predict(x_train), color='orange', label=\"Line of regression\")\n",
        "plt.legend()\n",
        "plt.show()"
      ]
    },
    {
      "cell_type": "code",
      "execution_count": 14,
      "metadata": {
        "colab": {
          "base_uri": "https://localhost:8080/",
          "height": 374
        },
        "id": "NI93j6oz6d-2",
        "outputId": "1cae7a26-7317-4e2d-9519-d988155ff886"
      },
      "outputs": [
        {
          "output_type": "display_data",
          "data": {
            "image/png": "[encoded data removed]",
            "text/plain": [
              "<Figure size 576x432 with 1 Axes>"
            ]
          },
          "metadata": {
            "needs_background": "light"
          }
        }
      ],
      "source": [
        "## Plot Line of Regression for Testing Samples\n",
        "plt.figure(figsize=(8,6))\n",
        "plt.scatter(x_test, y_test, color='red', s=100, label=\"Actual Data\")\n",
        "plt.scatter(x_test, model.predict(x_test), color='green', s=100, label=\"Predicted_Data\")\n",
        "plt.plot(x_test, model.predict(x_test), color='orange', label=\"Line of regression\")\n",
        "plt.legend()\n",
        "plt.show()"
      ]
    },
    {
      "cell_type": "code",
      "execution_count": 15,
      "metadata": {
        "colab": {
          "base_uri": "https://localhost:8080/"
        },
        "id": "HkyPDXVP6ksW",
        "outputId": "e947b923-0a92-4df1-c08e-e7e616a8a73f"
      },
      "outputs": [
        {
          "output_type": "stream",
          "name": "stdout",
          "text": [
            "[9518.145658] 23866.266617207242\n"
          ]
        }
      ],
      "source": [
        "m = model.coef_\n",
        "c = model.intercept_\n",
        "print(m, c)"
      ]
    },
    {
      "cell_type": "code",
      "execution_count": 16,
      "metadata": {
        "id": "6vCYKrti6qMG"
      },
      "outputs": [],
      "source": [
        "accuracy = []\n",
        "for i in range(10000):\n",
        " x_train1, x_test1, y_train1, y_test1 = train_test_split(x, y, train_size=0.8, random_state=2)\n",
        " model1 = LinearRegression()\n",
        " model1.fit(x_train1, y_train1)\n",
        " y_pred1 = model1.predict(x_test1)\n",
        " r2_1 = r2_score(y_test1, y_pred1)\n",
        " accuracy.append(r2_1)\n"
      ]
    },
    {
      "cell_type": "code",
      "execution_count": 17,
      "metadata": {
        "colab": {
          "base_uri": "https://localhost:8080/"
        },
        "id": "9o4rF5ef6wYG",
        "outputId": "73f60aa4-4f4b-4b95-a80b-90b7e0073e7a"
      },
      "outputs": [
        {
          "output_type": "execute_result",
          "data": {
            "text/plain": [
              "[0.8886956733784563,\n",
              " 0.8886956733784563,\n",
              " 0.8886956733784563,\n",
              " 0.8886956733784563,\n",
              " 0.8886956733784563,\n",
              " 0.8886956733784563,\n",
              " 0.8886956733784563,\n",
              " 0.8886956733784563,\n",
              " 0.8886956733784563,\n",
              " 0.8886956733784563,\n",
              " 0.8886956733784563,\n",
              " 0.8886956733784563,\n",
              " 0.8886956733784563,\n",
              " 0.8886956733784563,\n",
              " 0.8886956733784563,\n",
              " 0.8886956733784563,\n",
              " 0.8886956733784563,\n",
              " 0.8886956733784563,\n",
              " 0.8886956733784563,\n",
              " 0.8886956733784563,\n",
              " 0.8886956733784563,\n",
              " 0.8886956733784563,\n",
              " 0.8886956733784563,\n",
              " 0.8886956733784563,\n",
              " 0.8886956733784563,\n",
              " 0.8886956733784563,\n",
              " 0.8886956733784563,\n",
              " 0.8886956733784563,\n",
              " 0.8886956733784563,\n",
              " 0.8886956733784563,\n",
              " 0.8886956733784563,\n",
              " 0.8886956733784563,\n",
              " 0.8886956733784563,\n",
              " 0.8886956733784563,\n",
              " 0.8886956733784563,\n",
              " 0.8886956733784563,\n",
              " 0.8886956733784563,\n",
              " 0.8886956733784563,\n",
              " 0.8886956733784563,\n",
              " 0.8886956733784563,\n",
              " 0.8886956733784563,\n",
              " 0.8886956733784563,\n",
              " 0.8886956733784563,\n",
              " 0.8886956733784563,\n",
              " 0.8886956733784563,\n",
              " 0.8886956733784563,\n",
              " 0.8886956733784563,\n",
              " 0.8886956733784563,\n",
              " 0.8886956733784563,\n",
              " 0.8886956733784563,\n",
              " 0.8886956733784563,\n",
              " 0.8886956733784563,\n",
              " 0.8886956733784563,\n",
              " 0.8886956733784563,\n",
              " 0.8886956733784563,\n",
              " 0.8886956733784563,\n",
              " 0.8886956733784563,\n",
              " 0.8886956733784563,\n",
              " 0.8886956733784563,\n",
              " 0.8886956733784563,\n",
              " 0.8886956733784563,\n",
              " 0.8886956733784563,\n",
              " 0.8886956733784563,\n",
              " 0.8886956733784563,\n",
              " 0.8886956733784563,\n",
              " 0.8886956733784563,\n",
              " 0.8886956733784563,\n",
              " 0.8886956733784563,\n",
              " 0.8886956733784563,\n",
              " 0.8886956733784563,\n",
              " 0.8886956733784563,\n",
              " 0.8886956733784563,\n",
              " 0.8886956733784563,\n",
              " 0.8886956733784563,\n",
              " 0.8886956733784563,\n",
              " 0.8886956733784563,\n",
              " 0.8886956733784563,\n",
              " 0.8886956733784563,\n",
              " 0.8886956733784563,\n",
              " 0.8886956733784563,\n",
              " 0.8886956733784563,\n",
              " 0.8886956733784563,\n",
              " 0.8886956733784563,\n",
              " 0.8886956733784563,\n",
              " 0.8886956733784563,\n",
              " 0.8886956733784563,\n",
              " 0.8886956733784563,\n",
              " 0.8886956733784563,\n",
              " 0.8886956733784563,\n",
              " 0.8886956733784563,\n",
              " 0.8886956733784563,\n",
              " 0.8886956733784563,\n",
              " 0.8886956733784563,\n",
              " 0.8886956733784563,\n",
              " 0.8886956733784563,\n",
              " 0.8886956733784563,\n",
              " 0.8886956733784563,\n",
              " 0.8886956733784563,\n",
              " 0.8886956733784563,\n",
              " 0.8886956733784563,\n",
              " 0.8886956733784563,\n",
              " 0.8886956733784563,\n",
              " 0.8886956733784563,\n",
              " 0.8886956733784563,\n",
              " 0.8886956733784563,\n",
              " 0.8886956733784563,\n",
              " 0.8886956733784563,\n",
              " 0.8886956733784563,\n",
              " 0.8886956733784563,\n",
              " 0.8886956733784563,\n",
              " 0.8886956733784563,\n",
              " 0.8886956733784563,\n",
              " 0.8886956733784563,\n",
              " 0.8886956733784563,\n",
              " 0.8886956733784563,\n",
              " 0.8886956733784563,\n",
              " 0.8886956733784563,\n",
              " 0.8886956733784563,\n",
              " 0.8886956733784563,\n",
              " 0.8886956733784563,\n",
              " 0.8886956733784563,\n",
              " 0.8886956733784563,\n",
              " 0.8886956733784563,\n",
              " 0.8886956733784563,\n",
              " 0.8886956733784563,\n",
              " 0.8886956733784563,\n",
              " 0.8886956733784563,\n",
              " 0.8886956733784563,\n",
              " 0.8886956733784563,\n",
              " 0.8886956733784563,\n",
              " 0.8886956733784563,\n",
              " 0.8886956733784563,\n",
              " 0.8886956733784563,\n",
              " 0.8886956733784563,\n",
              " 0.8886956733784563,\n",
              " 0.8886956733784563,\n",
              " 0.8886956733784563,\n",
              " 0.8886956733784563,\n",
              " 0.8886956733784563,\n",
              " 0.8886956733784563,\n",
              " 0.8886956733784563,\n",
              " 0.8886956733784563,\n",
              " 0.8886956733784563,\n",
              " 0.8886956733784563,\n",
              " 0.8886956733784563,\n",
              " 0.8886956733784563,\n",
              " 0.8886956733784563,\n",
              " 0.8886956733784563,\n",
              " 0.8886956733784563,\n",
              " 0.8886956733784563,\n",
              " 0.8886956733784563,\n",
              " 0.8886956733784563,\n",
              " 0.8886956733784563,\n",
              " 0.8886956733784563,\n",
              " 0.8886956733784563,\n",
              " 0.8886956733784563,\n",
              " 0.8886956733784563,\n",
              " 0.8886956733784563,\n",
              " 0.8886956733784563,\n",
              " 0.8886956733784563,\n",
              " 0.8886956733784563,\n",
              " 0.8886956733784563,\n",
              " 0.8886956733784563,\n",
              " 0.8886956733784563,\n",
              " 0.8886956733784563,\n",
              " 0.8886956733784563,\n",
              " 0.8886956733784563,\n",
              " 0.8886956733784563,\n",
              " 0.8886956733784563,\n",
              " 0.8886956733784563,\n",
              " 0.8886956733784563,\n",
              " 0.8886956733784563,\n",
              " 0.8886956733784563,\n",
              " 0.8886956733784563,\n",
              " 0.8886956733784563,\n",
              " 0.8886956733784563,\n",
              " 0.8886956733784563,\n",
              " 0.8886956733784563,\n",
              " 0.8886956733784563,\n",
              " 0.8886956733784563,\n",
              " 0.8886956733784563,\n",
              " 0.8886956733784563,\n",
              " 0.8886956733784563,\n",
              " 0.8886956733784563,\n",
              " 0.8886956733784563,\n",
              " 0.8886956733784563,\n",
              " 0.8886956733784563,\n",
              " 0.8886956733784563,\n",
              " 0.8886956733784563,\n",
              " 0.8886956733784563,\n",
              " 0.8886956733784563,\n",
              " 0.8886956733784563,\n",
              " 0.8886956733784563,\n",
              " 0.8886956733784563,\n",
              " 0.8886956733784563,\n",
              " 0.8886956733784563,\n",
              " 0.8886956733784563,\n",
              " 0.8886956733784563,\n",
              " 0.8886956733784563,\n",
              " 0.8886956733784563,\n",
              " 0.8886956733784563,\n",
              " 0.8886956733784563,\n",
              " 0.8886956733784563,\n",
              " 0.8886956733784563,\n",
              " 0.8886956733784563,\n",
              " 0.8886956733784563,\n",
              " 0.8886956733784563,\n",
              " 0.8886956733784563,\n",
              " 0.8886956733784563,\n",
              " 0.8886956733784563,\n",
              " 0.8886956733784563,\n",
              " 0.8886956733784563,\n",
              " 0.8886956733784563,\n",
              " 0.8886956733784563,\n",
              " 0.8886956733784563,\n",
              " 0.8886956733784563,\n",
              " 0.8886956733784563,\n",
              " 0.8886956733784563,\n",
              " 0.8886956733784563,\n",
              " 0.8886956733784563,\n",
              " 0.8886956733784563,\n",
              " 0.8886956733784563,\n",
              " 0.8886956733784563,\n",
              " 0.8886956733784563,\n",
              " 0.8886956733784563,\n",
              " 0.8886956733784563,\n",
              " 0.8886956733784563,\n",
              " 0.8886956733784563,\n",
              " 0.8886956733784563,\n",
              " 0.8886956733784563,\n",
              " 0.8886956733784563,\n",
              " 0.8886956733784563,\n",
              " 0.8886956733784563,\n",
              " 0.8886956733784563,\n",
              " 0.8886956733784563,\n",
              " 0.8886956733784563,\n",
              " 0.8886956733784563,\n",
              " 0.8886956733784563,\n",
              " 0.8886956733784563,\n",
              " 0.8886956733784563,\n",
              " 0.8886956733784563,\n",
              " 0.8886956733784563,\n",
              " 0.8886956733784563,\n",
              " 0.8886956733784563,\n",
              " 0.8886956733784563,\n",
              " 0.8886956733784563,\n",
              " 0.8886956733784563,\n",
              " 0.8886956733784563,\n",
              " 0.8886956733784563,\n",
              " 0.8886956733784563,\n",
              " 0.8886956733784563,\n",
              " 0.8886956733784563,\n",
              " 0.8886956733784563,\n",
              " 0.8886956733784563,\n",
              " 0.8886956733784563,\n",
              " 0.8886956733784563,\n",
              " 0.8886956733784563,\n",
              " 0.8886956733784563,\n",
              " 0.8886956733784563,\n",
              " 0.8886956733784563,\n",
              " 0.8886956733784563,\n",
              " 0.8886956733784563,\n",
              " 0.8886956733784563,\n",
              " 0.8886956733784563,\n",
              " 0.8886956733784563,\n",
              " 0.8886956733784563,\n",
              " 0.8886956733784563,\n",
              " 0.8886956733784563,\n",
              " 0.8886956733784563,\n",
              " 0.8886956733784563,\n",
              " 0.8886956733784563,\n",
              " 0.8886956733784563,\n",
              " 0.8886956733784563,\n",
              " 0.8886956733784563,\n",
              " 0.8886956733784563,\n",
              " 0.8886956733784563,\n",
              " 0.8886956733784563,\n",
              " 0.8886956733784563,\n",
              " 0.8886956733784563,\n",
              " 0.8886956733784563,\n",
              " 0.8886956733784563,\n",
              " 0.8886956733784563,\n",
              " 0.8886956733784563,\n",
              " 0.8886956733784563,\n",
              " 0.8886956733784563,\n",
              " 0.8886956733784563,\n",
              " 0.8886956733784563,\n",
              " 0.8886956733784563,\n",
              " 0.8886956733784563,\n",
              " 0.8886956733784563,\n",
              " 0.8886956733784563,\n",
              " 0.8886956733784563,\n",
              " 0.8886956733784563,\n",
              " 0.8886956733784563,\n",
              " 0.8886956733784563,\n",
              " 0.8886956733784563,\n",
              " 0.8886956733784563,\n",
              " 0.8886956733784563,\n",
              " 0.8886956733784563,\n",
              " 0.8886956733784563,\n",
              " 0.8886956733784563,\n",
              " 0.8886956733784563,\n",
              " 0.8886956733784563,\n",
              " 0.8886956733784563,\n",
              " 0.8886956733784563,\n",
              " 0.8886956733784563,\n",
              " 0.8886956733784563,\n",
              " 0.8886956733784563,\n",
              " 0.8886956733784563,\n",
              " 0.8886956733784563,\n",
              " 0.8886956733784563,\n",
              " 0.8886956733784563,\n",
              " 0.8886956733784563,\n",
              " 0.8886956733784563,\n",
              " 0.8886956733784563,\n",
              " 0.8886956733784563,\n",
              " 0.8886956733784563,\n",
              " 0.8886956733784563,\n",
              " 0.8886956733784563,\n",
              " 0.8886956733784563,\n",
              " 0.8886956733784563,\n",
              " 0.8886956733784563,\n",
              " 0.8886956733784563,\n",
              " 0.8886956733784563,\n",
              " 0.8886956733784563,\n",
              " 0.8886956733784563,\n",
              " 0.8886956733784563,\n",
              " 0.8886956733784563,\n",
              " 0.8886956733784563,\n",
              " 0.8886956733784563,\n",
              " 0.8886956733784563,\n",
              " 0.8886956733784563,\n",
              " 0.8886956733784563,\n",
              " 0.8886956733784563,\n",
              " 0.8886956733784563,\n",
              " 0.8886956733784563,\n",
              " 0.8886956733784563,\n",
              " 0.8886956733784563,\n",
              " 0.8886956733784563,\n",
              " 0.8886956733784563,\n",
              " 0.8886956733784563,\n",
              " 0.8886956733784563,\n",
              " 0.8886956733784563,\n",
              " 0.8886956733784563,\n",
              " 0.8886956733784563,\n",
              " 0.8886956733784563,\n",
              " 0.8886956733784563,\n",
              " 0.8886956733784563,\n",
              " 0.8886956733784563,\n",
              " 0.8886956733784563,\n",
              " 0.8886956733784563,\n",
              " 0.8886956733784563,\n",
              " 0.8886956733784563,\n",
              " 0.8886956733784563,\n",
              " 0.8886956733784563,\n",
              " 0.8886956733784563,\n",
              " 0.8886956733784563,\n",
              " 0.8886956733784563,\n",
              " 0.8886956733784563,\n",
              " 0.8886956733784563,\n",
              " 0.8886956733784563,\n",
              " 0.8886956733784563,\n",
              " 0.8886956733784563,\n",
              " 0.8886956733784563,\n",
              " 0.8886956733784563,\n",
              " 0.8886956733784563,\n",
              " 0.8886956733784563,\n",
              " 0.8886956733784563,\n",
              " 0.8886956733784563,\n",
              " 0.8886956733784563,\n",
              " 0.8886956733784563,\n",
              " 0.8886956733784563,\n",
              " 0.8886956733784563,\n",
              " 0.8886956733784563,\n",
              " 0.8886956733784563,\n",
              " 0.8886956733784563,\n",
              " 0.8886956733784563,\n",
              " 0.8886956733784563,\n",
              " 0.8886956733784563,\n",
              " 0.8886956733784563,\n",
              " 0.8886956733784563,\n",
              " 0.8886956733784563,\n",
              " 0.8886956733784563,\n",
              " 0.8886956733784563,\n",
              " 0.8886956733784563,\n",
              " 0.8886956733784563,\n",
              " 0.8886956733784563,\n",
              " 0.8886956733784563,\n",
              " 0.8886956733784563,\n",
              " 0.8886956733784563,\n",
              " 0.8886956733784563,\n",
              " 0.8886956733784563,\n",
              " 0.8886956733784563,\n",
              " 0.8886956733784563,\n",
              " 0.8886956733784563,\n",
              " 0.8886956733784563,\n",
              " 0.8886956733784563,\n",
              " 0.8886956733784563,\n",
              " 0.8886956733784563,\n",
              " 0.8886956733784563,\n",
              " 0.8886956733784563,\n",
              " 0.8886956733784563,\n",
              " 0.8886956733784563,\n",
              " 0.8886956733784563,\n",
              " 0.8886956733784563,\n",
              " 0.8886956733784563,\n",
              " 0.8886956733784563,\n",
              " 0.8886956733784563,\n",
              " 0.8886956733784563,\n",
              " 0.8886956733784563,\n",
              " 0.8886956733784563,\n",
              " 0.8886956733784563,\n",
              " 0.8886956733784563,\n",
              " 0.8886956733784563,\n",
              " 0.8886956733784563,\n",
              " 0.8886956733784563,\n",
              " 0.8886956733784563,\n",
              " 0.8886956733784563,\n",
              " 0.8886956733784563,\n",
              " 0.8886956733784563,\n",
              " 0.8886956733784563,\n",
              " 0.8886956733784563,\n",
              " 0.8886956733784563,\n",
              " 0.8886956733784563,\n",
              " 0.8886956733784563,\n",
              " 0.8886956733784563,\n",
              " 0.8886956733784563,\n",
              " 0.8886956733784563,\n",
              " 0.8886956733784563,\n",
              " 0.8886956733784563,\n",
              " 0.8886956733784563,\n",
              " 0.8886956733784563,\n",
              " 0.8886956733784563,\n",
              " 0.8886956733784563,\n",
              " 0.8886956733784563,\n",
              " 0.8886956733784563,\n",
              " 0.8886956733784563,\n",
              " 0.8886956733784563,\n",
              " 0.8886956733784563,\n",
              " 0.8886956733784563,\n",
              " 0.8886956733784563,\n",
              " 0.8886956733784563,\n",
              " 0.8886956733784563,\n",
              " 0.8886956733784563,\n",
              " 0.8886956733784563,\n",
              " 0.8886956733784563,\n",
              " 0.8886956733784563,\n",
              " 0.8886956733784563,\n",
              " 0.8886956733784563,\n",
              " 0.8886956733784563,\n",
              " 0.8886956733784563,\n",
              " 0.8886956733784563,\n",
              " 0.8886956733784563,\n",
              " 0.8886956733784563,\n",
              " 0.8886956733784563,\n",
              " 0.8886956733784563,\n",
              " 0.8886956733784563,\n",
              " 0.8886956733784563,\n",
              " 0.8886956733784563,\n",
              " 0.8886956733784563,\n",
              " 0.8886956733784563,\n",
              " 0.8886956733784563,\n",
              " 0.8886956733784563,\n",
              " 0.8886956733784563,\n",
              " 0.8886956733784563,\n",
              " 0.8886956733784563,\n",
              " 0.8886956733784563,\n",
              " 0.8886956733784563,\n",
              " 0.8886956733784563,\n",
              " 0.8886956733784563,\n",
              " 0.8886956733784563,\n",
              " 0.8886956733784563,\n",
              " 0.8886956733784563,\n",
              " 0.8886956733784563,\n",
              " 0.8886956733784563,\n",
              " 0.8886956733784563,\n",
              " 0.8886956733784563,\n",
              " 0.8886956733784563,\n",
              " 0.8886956733784563,\n",
              " 0.8886956733784563,\n",
              " 0.8886956733784563,\n",
              " 0.8886956733784563,\n",
              " 0.8886956733784563,\n",
              " 0.8886956733784563,\n",
              " 0.8886956733784563,\n",
              " 0.8886956733784563,\n",
              " 0.8886956733784563,\n",
              " 0.8886956733784563,\n",
              " 0.8886956733784563,\n",
              " 0.8886956733784563,\n",
              " 0.8886956733784563,\n",
              " 0.8886956733784563,\n",
              " 0.8886956733784563,\n",
              " 0.8886956733784563,\n",
              " 0.8886956733784563,\n",
              " 0.8886956733784563,\n",
              " 0.8886956733784563,\n",
              " 0.8886956733784563,\n",
              " 0.8886956733784563,\n",
              " 0.8886956733784563,\n",
              " 0.8886956733784563,\n",
              " 0.8886956733784563,\n",
              " 0.8886956733784563,\n",
              " 0.8886956733784563,\n",
              " 0.8886956733784563,\n",
              " 0.8886956733784563,\n",
              " 0.8886956733784563,\n",
              " 0.8886956733784563,\n",
              " 0.8886956733784563,\n",
              " 0.8886956733784563,\n",
              " 0.8886956733784563,\n",
              " 0.8886956733784563,\n",
              " 0.8886956733784563,\n",
              " 0.8886956733784563,\n",
              " 0.8886956733784563,\n",
              " 0.8886956733784563,\n",
              " 0.8886956733784563,\n",
              " 0.8886956733784563,\n",
              " 0.8886956733784563,\n",
              " 0.8886956733784563,\n",
              " 0.8886956733784563,\n",
              " 0.8886956733784563,\n",
              " 0.8886956733784563,\n",
              " 0.8886956733784563,\n",
              " 0.8886956733784563,\n",
              " 0.8886956733784563,\n",
              " 0.8886956733784563,\n",
              " 0.8886956733784563,\n",
              " 0.8886956733784563,\n",
              " 0.8886956733784563,\n",
              " 0.8886956733784563,\n",
              " 0.8886956733784563,\n",
              " 0.8886956733784563,\n",
              " 0.8886956733784563,\n",
              " 0.8886956733784563,\n",
              " 0.8886956733784563,\n",
              " 0.8886956733784563,\n",
              " 0.8886956733784563,\n",
              " 0.8886956733784563,\n",
              " 0.8886956733784563,\n",
              " 0.8886956733784563,\n",
              " 0.8886956733784563,\n",
              " 0.8886956733784563,\n",
              " 0.8886956733784563,\n",
              " 0.8886956733784563,\n",
              " 0.8886956733784563,\n",
              " 0.8886956733784563,\n",
              " 0.8886956733784563,\n",
              " 0.8886956733784563,\n",
              " 0.8886956733784563,\n",
              " 0.8886956733784563,\n",
              " 0.8886956733784563,\n",
              " 0.8886956733784563,\n",
              " 0.8886956733784563,\n",
              " 0.8886956733784563,\n",
              " 0.8886956733784563,\n",
              " 0.8886956733784563,\n",
              " 0.8886956733784563,\n",
              " 0.8886956733784563,\n",
              " 0.8886956733784563,\n",
              " 0.8886956733784563,\n",
              " 0.8886956733784563,\n",
              " 0.8886956733784563,\n",
              " 0.8886956733784563,\n",
              " 0.8886956733784563,\n",
              " 0.8886956733784563,\n",
              " 0.8886956733784563,\n",
              " 0.8886956733784563,\n",
              " 0.8886956733784563,\n",
              " 0.8886956733784563,\n",
              " 0.8886956733784563,\n",
              " 0.8886956733784563,\n",
              " 0.8886956733784563,\n",
              " 0.8886956733784563,\n",
              " 0.8886956733784563,\n",
              " 0.8886956733784563,\n",
              " 0.8886956733784563,\n",
              " 0.8886956733784563,\n",
              " 0.8886956733784563,\n",
              " 0.8886956733784563,\n",
              " 0.8886956733784563,\n",
              " 0.8886956733784563,\n",
              " 0.8886956733784563,\n",
              " 0.8886956733784563,\n",
              " 0.8886956733784563,\n",
              " 0.8886956733784563,\n",
              " 0.8886956733784563,\n",
              " 0.8886956733784563,\n",
              " 0.8886956733784563,\n",
              " 0.8886956733784563,\n",
              " 0.8886956733784563,\n",
              " 0.8886956733784563,\n",
              " 0.8886956733784563,\n",
              " 0.8886956733784563,\n",
              " 0.8886956733784563,\n",
              " 0.8886956733784563,\n",
              " 0.8886956733784563,\n",
              " 0.8886956733784563,\n",
              " 0.8886956733784563,\n",
              " 0.8886956733784563,\n",
              " 0.8886956733784563,\n",
              " 0.8886956733784563,\n",
              " 0.8886956733784563,\n",
              " 0.8886956733784563,\n",
              " 0.8886956733784563,\n",
              " 0.8886956733784563,\n",
              " 0.8886956733784563,\n",
              " 0.8886956733784563,\n",
              " 0.8886956733784563,\n",
              " 0.8886956733784563,\n",
              " 0.8886956733784563,\n",
              " 0.8886956733784563,\n",
              " 0.8886956733784563,\n",
              " 0.8886956733784563,\n",
              " 0.8886956733784563,\n",
              " 0.8886956733784563,\n",
              " 0.8886956733784563,\n",
              " 0.8886956733784563,\n",
              " 0.8886956733784563,\n",
              " 0.8886956733784563,\n",
              " 0.8886956733784563,\n",
              " 0.8886956733784563,\n",
              " 0.8886956733784563,\n",
              " 0.8886956733784563,\n",
              " 0.8886956733784563,\n",
              " 0.8886956733784563,\n",
              " 0.8886956733784563,\n",
              " 0.8886956733784563,\n",
              " 0.8886956733784563,\n",
              " 0.8886956733784563,\n",
              " 0.8886956733784563,\n",
              " 0.8886956733784563,\n",
              " 0.8886956733784563,\n",
              " 0.8886956733784563,\n",
              " 0.8886956733784563,\n",
              " 0.8886956733784563,\n",
              " 0.8886956733784563,\n",
              " 0.8886956733784563,\n",
              " 0.8886956733784563,\n",
              " 0.8886956733784563,\n",
              " 0.8886956733784563,\n",
              " 0.8886956733784563,\n",
              " 0.8886956733784563,\n",
              " 0.8886956733784563,\n",
              " 0.8886956733784563,\n",
              " 0.8886956733784563,\n",
              " 0.8886956733784563,\n",
              " 0.8886956733784563,\n",
              " 0.8886956733784563,\n",
              " 0.8886956733784563,\n",
              " 0.8886956733784563,\n",
              " 0.8886956733784563,\n",
              " 0.8886956733784563,\n",
              " 0.8886956733784563,\n",
              " 0.8886956733784563,\n",
              " 0.8886956733784563,\n",
              " 0.8886956733784563,\n",
              " 0.8886956733784563,\n",
              " 0.8886956733784563,\n",
              " 0.8886956733784563,\n",
              " 0.8886956733784563,\n",
              " 0.8886956733784563,\n",
              " 0.8886956733784563,\n",
              " 0.8886956733784563,\n",
              " 0.8886956733784563,\n",
              " 0.8886956733784563,\n",
              " 0.8886956733784563,\n",
              " 0.8886956733784563,\n",
              " 0.8886956733784563,\n",
              " 0.8886956733784563,\n",
              " 0.8886956733784563,\n",
              " 0.8886956733784563,\n",
              " 0.8886956733784563,\n",
              " 0.8886956733784563,\n",
              " 0.8886956733784563,\n",
              " 0.8886956733784563,\n",
              " 0.8886956733784563,\n",
              " 0.8886956733784563,\n",
              " 0.8886956733784563,\n",
              " 0.8886956733784563,\n",
              " 0.8886956733784563,\n",
              " 0.8886956733784563,\n",
              " 0.8886956733784563,\n",
              " 0.8886956733784563,\n",
              " 0.8886956733784563,\n",
              " 0.8886956733784563,\n",
              " 0.8886956733784563,\n",
              " 0.8886956733784563,\n",
              " 0.8886956733784563,\n",
              " 0.8886956733784563,\n",
              " 0.8886956733784563,\n",
              " 0.8886956733784563,\n",
              " 0.8886956733784563,\n",
              " 0.8886956733784563,\n",
              " 0.8886956733784563,\n",
              " 0.8886956733784563,\n",
              " 0.8886956733784563,\n",
              " 0.8886956733784563,\n",
              " 0.8886956733784563,\n",
              " 0.8886956733784563,\n",
              " 0.8886956733784563,\n",
              " 0.8886956733784563,\n",
              " 0.8886956733784563,\n",
              " 0.8886956733784563,\n",
              " 0.8886956733784563,\n",
              " 0.8886956733784563,\n",
              " 0.8886956733784563,\n",
              " 0.8886956733784563,\n",
              " 0.8886956733784563,\n",
              " 0.8886956733784563,\n",
              " 0.8886956733784563,\n",
              " 0.8886956733784563,\n",
              " 0.8886956733784563,\n",
              " 0.8886956733784563,\n",
              " 0.8886956733784563,\n",
              " 0.8886956733784563,\n",
              " 0.8886956733784563,\n",
              " 0.8886956733784563,\n",
              " 0.8886956733784563,\n",
              " 0.8886956733784563,\n",
              " 0.8886956733784563,\n",
              " 0.8886956733784563,\n",
              " 0.8886956733784563,\n",
              " 0.8886956733784563,\n",
              " 0.8886956733784563,\n",
              " 0.8886956733784563,\n",
              " 0.8886956733784563,\n",
              " 0.8886956733784563,\n",
              " 0.8886956733784563,\n",
              " 0.8886956733784563,\n",
              " 0.8886956733784563,\n",
              " 0.8886956733784563,\n",
              " 0.8886956733784563,\n",
              " 0.8886956733784563,\n",
              " 0.8886956733784563,\n",
              " 0.8886956733784563,\n",
              " 0.8886956733784563,\n",
              " 0.8886956733784563,\n",
              " 0.8886956733784563,\n",
              " 0.8886956733784563,\n",
              " 0.8886956733784563,\n",
              " 0.8886956733784563,\n",
              " 0.8886956733784563,\n",
              " 0.8886956733784563,\n",
              " 0.8886956733784563,\n",
              " 0.8886956733784563,\n",
              " 0.8886956733784563,\n",
              " 0.8886956733784563,\n",
              " 0.8886956733784563,\n",
              " 0.8886956733784563,\n",
              " 0.8886956733784563,\n",
              " 0.8886956733784563,\n",
              " 0.8886956733784563,\n",
              " 0.8886956733784563,\n",
              " 0.8886956733784563,\n",
              " 0.8886956733784563,\n",
              " 0.8886956733784563,\n",
              " 0.8886956733784563,\n",
              " 0.8886956733784563,\n",
              " 0.8886956733784563,\n",
              " 0.8886956733784563,\n",
              " 0.8886956733784563,\n",
              " 0.8886956733784563,\n",
              " 0.8886956733784563,\n",
              " 0.8886956733784563,\n",
              " 0.8886956733784563,\n",
              " 0.8886956733784563,\n",
              " 0.8886956733784563,\n",
              " 0.8886956733784563,\n",
              " 0.8886956733784563,\n",
              " 0.8886956733784563,\n",
              " 0.8886956733784563,\n",
              " 0.8886956733784563,\n",
              " 0.8886956733784563,\n",
              " 0.8886956733784563,\n",
              " 0.8886956733784563,\n",
              " 0.8886956733784563,\n",
              " 0.8886956733784563,\n",
              " 0.8886956733784563,\n",
              " 0.8886956733784563,\n",
              " 0.8886956733784563,\n",
              " 0.8886956733784563,\n",
              " 0.8886956733784563,\n",
              " 0.8886956733784563,\n",
              " 0.8886956733784563,\n",
              " 0.8886956733784563,\n",
              " 0.8886956733784563,\n",
              " 0.8886956733784563,\n",
              " 0.8886956733784563,\n",
              " 0.8886956733784563,\n",
              " 0.8886956733784563,\n",
              " 0.8886956733784563,\n",
              " 0.8886956733784563,\n",
              " 0.8886956733784563,\n",
              " 0.8886956733784563,\n",
              " 0.8886956733784563,\n",
              " 0.8886956733784563,\n",
              " 0.8886956733784563,\n",
              " 0.8886956733784563,\n",
              " 0.8886956733784563,\n",
              " 0.8886956733784563,\n",
              " 0.8886956733784563,\n",
              " 0.8886956733784563,\n",
              " 0.8886956733784563,\n",
              " 0.8886956733784563,\n",
              " 0.8886956733784563,\n",
              " 0.8886956733784563,\n",
              " 0.8886956733784563,\n",
              " 0.8886956733784563,\n",
              " 0.8886956733784563,\n",
              " 0.8886956733784563,\n",
              " 0.8886956733784563,\n",
              " 0.8886956733784563,\n",
              " 0.8886956733784563,\n",
              " 0.8886956733784563,\n",
              " 0.8886956733784563,\n",
              " 0.8886956733784563,\n",
              " 0.8886956733784563,\n",
              " 0.8886956733784563,\n",
              " 0.8886956733784563,\n",
              " 0.8886956733784563,\n",
              " 0.8886956733784563,\n",
              " 0.8886956733784563,\n",
              " 0.8886956733784563,\n",
              " 0.8886956733784563,\n",
              " 0.8886956733784563,\n",
              " 0.8886956733784563,\n",
              " 0.8886956733784563,\n",
              " 0.8886956733784563,\n",
              " 0.8886956733784563,\n",
              " 0.8886956733784563,\n",
              " 0.8886956733784563,\n",
              " 0.8886956733784563,\n",
              " 0.8886956733784563,\n",
              " 0.8886956733784563,\n",
              " 0.8886956733784563,\n",
              " 0.8886956733784563,\n",
              " 0.8886956733784563,\n",
              " 0.8886956733784563,\n",
              " 0.8886956733784563,\n",
              " 0.8886956733784563,\n",
              " 0.8886956733784563,\n",
              " 0.8886956733784563,\n",
              " 0.8886956733784563,\n",
              " 0.8886956733784563,\n",
              " 0.8886956733784563,\n",
              " 0.8886956733784563,\n",
              " 0.8886956733784563,\n",
              " 0.8886956733784563,\n",
              " 0.8886956733784563,\n",
              " 0.8886956733784563,\n",
              " 0.8886956733784563,\n",
              " 0.8886956733784563,\n",
              " 0.8886956733784563,\n",
              " 0.8886956733784563,\n",
              " 0.8886956733784563,\n",
              " 0.8886956733784563,\n",
              " 0.8886956733784563,\n",
              " 0.8886956733784563,\n",
              " 0.8886956733784563,\n",
              " 0.8886956733784563,\n",
              " 0.8886956733784563,\n",
              " 0.8886956733784563,\n",
              " 0.8886956733784563,\n",
              " 0.8886956733784563,\n",
              " 0.8886956733784563,\n",
              " 0.8886956733784563,\n",
              " 0.8886956733784563,\n",
              " 0.8886956733784563,\n",
              " 0.8886956733784563,\n",
              " 0.8886956733784563,\n",
              " 0.8886956733784563,\n",
              " 0.8886956733784563,\n",
              " 0.8886956733784563,\n",
              " 0.8886956733784563,\n",
              " 0.8886956733784563,\n",
              " 0.8886956733784563,\n",
              " 0.8886956733784563,\n",
              " 0.8886956733784563,\n",
              " 0.8886956733784563,\n",
              " 0.8886956733784563,\n",
              " 0.8886956733784563,\n",
              " 0.8886956733784563,\n",
              " 0.8886956733784563,\n",
              " 0.8886956733784563,\n",
              " 0.8886956733784563,\n",
              " 0.8886956733784563,\n",
              " 0.8886956733784563,\n",
              " 0.8886956733784563,\n",
              " 0.8886956733784563,\n",
              " 0.8886956733784563,\n",
              " 0.8886956733784563,\n",
              " 0.8886956733784563,\n",
              " 0.8886956733784563,\n",
              " 0.8886956733784563,\n",
              " 0.8886956733784563,\n",
              " 0.8886956733784563,\n",
              " 0.8886956733784563,\n",
              " 0.8886956733784563,\n",
              " 0.8886956733784563,\n",
              " 0.8886956733784563,\n",
              " 0.8886956733784563,\n",
              " 0.8886956733784563,\n",
              " 0.8886956733784563,\n",
              " 0.8886956733784563,\n",
              " 0.8886956733784563,\n",
              " 0.8886956733784563,\n",
              " 0.8886956733784563,\n",
              " 0.8886956733784563,\n",
              " 0.8886956733784563,\n",
              " 0.8886956733784563,\n",
              " 0.8886956733784563,\n",
              " 0.8886956733784563,\n",
              " 0.8886956733784563,\n",
              " 0.8886956733784563,\n",
              " 0.8886956733784563,\n",
              " 0.8886956733784563,\n",
              " 0.8886956733784563,\n",
              " 0.8886956733784563,\n",
              " 0.8886956733784563,\n",
              " 0.8886956733784563,\n",
              " 0.8886956733784563,\n",
              " 0.8886956733784563,\n",
              " 0.8886956733784563,\n",
              " 0.8886956733784563,\n",
              " 0.8886956733784563,\n",
              " 0.8886956733784563,\n",
              " 0.8886956733784563,\n",
              " 0.8886956733784563,\n",
              " 0.8886956733784563,\n",
              " 0.8886956733784563,\n",
              " 0.8886956733784563,\n",
              " 0.8886956733784563,\n",
              " 0.8886956733784563,\n",
              " 0.8886956733784563,\n",
              " 0.8886956733784563,\n",
              " 0.8886956733784563,\n",
              " 0.8886956733784563,\n",
              " 0.8886956733784563,\n",
              " 0.8886956733784563,\n",
              " 0.8886956733784563,\n",
              " 0.8886956733784563,\n",
              " 0.8886956733784563,\n",
              " 0.8886956733784563,\n",
              " 0.8886956733784563,\n",
              " 0.8886956733784563,\n",
              " 0.8886956733784563,\n",
              " 0.8886956733784563,\n",
              " 0.8886956733784563,\n",
              " 0.8886956733784563,\n",
              " 0.8886956733784563,\n",
              " 0.8886956733784563,\n",
              " 0.8886956733784563,\n",
              " 0.8886956733784563,\n",
              " 0.8886956733784563,\n",
              " 0.8886956733784563,\n",
              " 0.8886956733784563,\n",
              " 0.8886956733784563,\n",
              " 0.8886956733784563,\n",
              " 0.8886956733784563,\n",
              " 0.8886956733784563,\n",
              " 0.8886956733784563,\n",
              " 0.8886956733784563,\n",
              " 0.8886956733784563,\n",
              " 0.8886956733784563,\n",
              " 0.8886956733784563,\n",
              " 0.8886956733784563,\n",
              " 0.8886956733784563,\n",
              " 0.8886956733784563,\n",
              " 0.8886956733784563,\n",
              " 0.8886956733784563,\n",
              " 0.8886956733784563,\n",
              " 0.8886956733784563,\n",
              " 0.8886956733784563,\n",
              " 0.8886956733784563,\n",
              " 0.8886956733784563,\n",
              " 0.8886956733784563,\n",
              " 0.8886956733784563,\n",
              " 0.8886956733784563,\n",
              " 0.8886956733784563,\n",
              " 0.8886956733784563,\n",
              " 0.8886956733784563,\n",
              " 0.8886956733784563,\n",
              " 0.8886956733784563,\n",
              " 0.8886956733784563,\n",
              " 0.8886956733784563,\n",
              " 0.8886956733784563,\n",
              " 0.8886956733784563,\n",
              " 0.8886956733784563,\n",
              " 0.8886956733784563,\n",
              " 0.8886956733784563,\n",
              " 0.8886956733784563,\n",
              " 0.8886956733784563,\n",
              " 0.8886956733784563,\n",
              " 0.8886956733784563,\n",
              " 0.8886956733784563,\n",
              " 0.8886956733784563,\n",
              " 0.8886956733784563,\n",
              " 0.8886956733784563,\n",
              " 0.8886956733784563,\n",
              " ...]"
            ]
          },
          "metadata": {},
          "execution_count": 17
        }
      ],
      "source": [
        "accuracy"
      ]
    },
    {
      "cell_type": "code",
      "execution_count": 18,
      "metadata": {
        "colab": {
          "base_uri": "https://localhost:8080/"
        },
        "id": "LfdcxmZq63D1",
        "outputId": "6deaee58-e127-40c1-a2a5-caba6ccbc545"
      },
      "outputs": [
        {
          "output_type": "execute_result",
          "data": {
            "text/plain": [
              "0.8886956733784563"
            ]
          },
          "metadata": {},
          "execution_count": 18
        }
      ],
      "source": [
        "np.max(accuracy)"
      ]
    },
    {
      "cell_type": "code",
      "execution_count": 19,
      "metadata": {
        "colab": {
          "base_uri": "https://localhost:8080/"
        },
        "id": "HIA6YSnR67L1",
        "outputId": "1a5af51c-ad6d-4fa3-f97f-b580113e2e76"
      },
      "outputs": [
        {
          "output_type": "execute_result",
          "data": {
            "text/plain": [
              "0"
            ]
          },
          "metadata": {},
          "execution_count": 19
        }
      ],
      "source": [
        "np.argmax(accuracy)"
      ]
    },
    {
      "cell_type": "code",
      "execution_count": 20,
      "metadata": {
        "colab": {
          "base_uri": "https://localhost:8080/"
        },
        "id": "g0VKU0nU6892",
        "outputId": "58af38e7-0d3b-41f0-d38e-974e7c563c42"
      },
      "outputs": [
        {
          "output_type": "execute_result",
          "data": {
            "text/plain": [
              "['salary.pkl']"
            ]
          },
          "metadata": {},
          "execution_count": 20
        }
      ],
      "source": [
        "#### save the model\n",
        "import joblib\n",
        "joblib.dump(model, 'salary.pkl')"
      ]
    },
    {
      "cell_type": "code",
      "execution_count": 21,
      "metadata": {
        "id": "A0l5jZ836_CW"
      },
      "outputs": [],
      "source": [
        "### Load the model\n",
        "mymodel = joblib.load(\"salary.pkl\")"
      ]
    },
    {
      "cell_type": "code",
      "execution_count": 22,
      "metadata": {
        "colab": {
          "base_uri": "https://localhost:8080/"
        },
        "id": "ZMayTiz57A1m",
        "outputId": "fdfabf37-c625-47a8-b016-af2000e7e9b9"
      },
      "outputs": [
        {
          "output_type": "stream",
          "name": "stderr",
          "text": [
            "/usr/local/lib/python3.7/dist-packages/sklearn/base.py:451: UserWarning: X does not have valid feature names, but LinearRegression was fitted with feature names\n",
            "  \"X does not have valid feature names, but\"\n"
          ]
        },
        {
          "output_type": "execute_result",
          "data": {
            "text/plain": [
              "array([128565.86885525])"
            ]
          },
          "metadata": {},
          "execution_count": 22
        }
      ],
      "source": [
        "### Test New Data\n",
        "mymodel.predict([[11]])"
      ]
    },
    {
      "cell_type": "code",
      "execution_count": 23,
      "metadata": {
        "colab": {
          "base_uri": "https://localhost:8080/"
        },
        "id": "Oqfherou7D_m",
        "outputId": "efff52ca-735e-4a09-858e-6e56e497ba26"
      },
      "outputs": [
        {
          "output_type": "stream",
          "name": "stderr",
          "text": [
            "/usr/local/lib/python3.7/dist-packages/sklearn/base.py:451: UserWarning: X does not have valid feature names, but LinearRegression was fitted with feature names\n",
            "  \"X does not have valid feature names, but\"\n"
          ]
        },
        {
          "output_type": "execute_result",
          "data": {
            "text/plain": [
              "128565.86885524614"
            ]
          },
          "metadata": {},
          "execution_count": 23
        }
      ],
      "source": [
        "mymodel.predict([[11]])[0]"
      ]
    },
    {
      "cell_type": "code",
      "execution_count": 24,
      "metadata": {
        "colab": {
          "base_uri": "https://localhost:8080/"
        },
        "id": "wCWEHo0d7Gem",
        "outputId": "5c4f82c1-42d4-49e5-c708-2f874271d84f"
      },
      "outputs": [
        {
          "output_type": "stream",
          "name": "stderr",
          "text": [
            "/usr/local/lib/python3.7/dist-packages/sklearn/base.py:451: UserWarning: X does not have valid feature names, but LinearRegression was fitted with feature names\n",
            "  \"X does not have valid feature names, but\"\n"
          ]
        },
        {
          "output_type": "execute_result",
          "data": {
            "text/plain": [
              "array([128565.86885525, 147602.16017125, 195192.88846127])"
            ]
          },
          "metadata": {},
          "execution_count": 24
        }
      ],
      "source": [
        "mymodel.predict([[11],[13],[18]])"
      ]
    },
    {
      "cell_type": "code",
      "execution_count": 24,
      "metadata": {
        "id": "wiewR3VR7ILm"
      },
      "outputs": [],
      "source": [
        ""
      ]
    }
  ],
  "metadata": {
    "colab": {
      "name": "Experiment_5.ipynb",
      "provenance": [],
      "authorship_tag": "ABX9TyOUjuqcPpeGaHY1vnsxRhb/",
      "include_colab_link": true
    },
    "kernelspec": {
      "display_name": "Python 3",
      "name": "python3"
    },
    "language_info": {
      "name": "python"
    }
  },
  "nbformat": 4,
  "nbformat_minor": 0
}