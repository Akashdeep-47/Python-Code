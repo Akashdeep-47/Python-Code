{
  "nbformat": 4,
  "nbformat_minor": 0,
  "metadata": {
    "colab": {
      "name": "Experiment 1.ipynb",
      "provenance": [],
      "authorship_tag": "ABX9TyNHhysT8AovrFTxmu1y33/7",
      "include_colab_link": true
    },
    "kernelspec": {
      "name": "python3",
      "display_name": "Python 3"
    },
    "language_info": {
      "name": "python"
    }
  },
  "cells": [
    {
      "cell_type": "markdown",
      "metadata": {
        "id": "view-in-github",
        "colab_type": "text"
      },
      "source": [
        "<a href=\"https://colab.research.google.com/github/Akashdeep-47/Python-Code/blob/master/Experiment_1.ipynb\" target=\"_parent\"><img src=\"https://colab.research.google.com/assets/colab-badge.svg\" alt=\"Open In Colab\"/></a>"
      ]
    },
    {
      "cell_type": "code",
      "execution_count": null,
      "metadata": {
        "colab": {
          "base_uri": "https://localhost:8080/"
        },
        "id": "rdpdnZHdfkBC",
        "outputId": "7cf64fe3-3559-4132-b566-66f747f06976"
      },
      "outputs": [
        {
          "output_type": "stream",
          "name": "stdout",
          "text": [
            "Enter the list of numbers : 5 6 2\n",
            "\n",
            "\n",
            "Sum :  13\n",
            "Average :  4.333333333333333\n",
            "Max element :  6\n",
            "Min element :  2\n",
            "Round of number :  4.33\n"
          ]
        }
      ],
      "source": [
        "num = input(\"Enter the list of numbers : \").split()\n",
        "print('\\n')\n",
        "sq = []\n",
        "\n",
        "for i in range(len(num)):\n",
        "  num[i] = int(num[i])\n",
        "\n",
        "avg = sum(num)/len(num)\n",
        "\n",
        "print(\"Sum : \", sum(num))\n",
        "print(\"Average : \", avg)\n",
        "print(\"Max element : \", max(num))\n",
        "print(\"Min element : \", min(num))\n",
        "print(\"Round of number : \", round(avg, 2))"
      ]
    },
    {
      "cell_type": "code",
      "source": [
        "num = int(input(\"Enter the number : \"))\n",
        "\n",
        "sq = num**(0.5)\n",
        "\n",
        "print(\"Square Root : \", sq)\n",
        "print(\"Round of Number : \", round(sq, 2))"
      ],
      "metadata": {
        "colab": {
          "base_uri": "https://localhost:8080/"
        },
        "id": "DNIfRKYgmw1R",
        "outputId": "37549038-76b3-40db-d7e4-d32f19b37857"
      },
      "execution_count": null,
      "outputs": [
        {
          "output_type": "stream",
          "name": "stdout",
          "text": [
            "Enter the number : 5\n",
            "Square Root :  2.23606797749979\n",
            "Round of Number :  2.24\n"
          ]
        }
      ]
    }
  ]
}