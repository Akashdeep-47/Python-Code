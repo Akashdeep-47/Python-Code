{
  "nbformat": 4,
  "nbformat_minor": 0,
  "metadata": {
    "colab": {
      "name": "Experiment_6.ipynb",
      "provenance": [],
      "authorship_tag": "ABX9TyNMd86hMuHcq6csI5nmoLMB",
      "include_colab_link": true
    },
    "kernelspec": {
      "name": "python3",
      "display_name": "Python 3"
    },
    "language_info": {
      "name": "python"
    }
  },
  "cells": [
    {
      "cell_type": "markdown",
      "metadata": {
        "id": "view-in-github",
        "colab_type": "text"
      },
      "source": [
        "<a href=\"https://colab.research.google.com/github/Akashdeep-47/Python-Code/blob/master/Experiment_6.ipynb\" target=\"_parent\"><img src=\"https://colab.research.google.com/assets/colab-badge.svg\" alt=\"Open In Colab\"/></a>"
      ]
    },
    {
      "cell_type": "code",
      "execution_count": 1,
      "metadata": {
        "colab": {
          "base_uri": "https://localhost:8080/"
        },
        "id": "Zc2OPy8t9GzL",
        "outputId": "3b76ed37-6bec-4b7b-eb26-16d791749041"
      },
      "outputs": [
        {
          "output_type": "stream",
          "name": "stdout",
          "text": [
            "  First Name  Gender  Salary Bonus % Senior Management             Team\n",
            "0    Douglas    Male   97308   6.945              TRUE        Marketing\n",
            "1     Thomas    Male   61933     NaN              TRUE              NaN\n",
            "2      Maria  Female  130590  11.858             FALSE          Finance\n",
            "3      Jerry    Male     NaN    9.34              TRUE          Finance\n",
            "4      Larry    Male  101004   1.389              TRUE  Client Services\n"
          ]
        }
      ],
      "source": [
        "# Importing libraries\n",
        "import pandas as pd\n",
        "import numpy as np\n",
        "# Read csv file into a pandas dataframe\n",
        "df = pd.read_csv(\"/content/sample_data/employees.csv\")\n",
        "print(df.head())\n"
      ]
    },
    {
      "cell_type": "code",
      "source": [
        "print(df.dtypes)\n",
        "print(df.describe())"
      ],
      "metadata": {
        "colab": {
          "base_uri": "https://localhost:8080/"
        },
        "id": "CvXrAPJT9mH8",
        "outputId": "088de72e-467c-4e49-edc2-4cb641843f9d"
      },
      "execution_count": 2,
      "outputs": [
        {
          "output_type": "stream",
          "name": "stdout",
          "text": [
            "First Name           object\n",
            "Gender               object\n",
            "Salary               object\n",
            "Bonus %              object\n",
            "Senior Management    object\n",
            "Team                 object\n",
            "dtype: object\n",
            "       First Name  Gender Salary Bonus % Senior Management             Team\n",
            "count         931     852    998     997               932              957\n",
            "unique        201       3    993     968                 4               13\n",
            "top       Marilyn  Female  91462   8.999              TRUE  Client Services\n",
            "freq           11     428      2       3               467              105\n"
          ]
        }
      ]
    },
    {
      "cell_type": "code",
      "source": [
        "print(df['Gender'].head(10))"
      ],
      "metadata": {
        "colab": {
          "base_uri": "https://localhost:8080/"
        },
        "id": "9YrVxkHT90fK",
        "outputId": "3c018f0b-690e-4abc-df56-af864825c0ca"
      },
      "execution_count": 3,
      "outputs": [
        {
          "output_type": "stream",
          "name": "stdout",
          "text": [
            "0      Male\n",
            "1      Male\n",
            "2    Female\n",
            "3      Male\n",
            "4      Male\n",
            "5      n.a.\n",
            "6    Female\n",
            "7    Female\n",
            "8       NaN\n",
            "9    Female\n",
            "Name: Gender, dtype: object\n"
          ]
        }
      ]
    },
    {
      "cell_type": "code",
      "source": [
        "# a list with all missing value formats\n",
        "missing_value_formats = [\"n.a.\",\"?\",\"NA\",\"n/a\", \"na\", \"--\"]\n",
        "df = pd.read_csv(\"/content/sample_data/employees.csv\", na_values = missing_value_formats)\n",
        "#print gender again\n",
        "print(df['Gender'].head(10))\n"
      ],
      "metadata": {
        "colab": {
          "base_uri": "https://localhost:8080/"
        },
        "id": "0kqQpEb993_K",
        "outputId": "3f01f4b8-ac77-43ca-9c44-6e18339854eb"
      },
      "execution_count": 4,
      "outputs": [
        {
          "output_type": "stream",
          "name": "stdout",
          "text": [
            "0      Male\n",
            "1      Male\n",
            "2    Female\n",
            "3      Male\n",
            "4      Male\n",
            "5       NaN\n",
            "6    Female\n",
            "7    Female\n",
            "8       NaN\n",
            "9    Female\n",
            "Name: Gender, dtype: object\n"
          ]
        }
      ]
    },
    {
      "cell_type": "code",
      "source": [
        "print(df['Gender'].isnull().head(10)) \n",
        "print(df['Gender'].notnull().head(10))"
      ],
      "metadata": {
        "colab": {
          "base_uri": "https://localhost:8080/"
        },
        "id": "tevxRmIu97EL",
        "outputId": "e23588f1-7627-44bf-a61f-ef1932aa21e0"
      },
      "execution_count": 5,
      "outputs": [
        {
          "output_type": "stream",
          "name": "stdout",
          "text": [
            "0    False\n",
            "1    False\n",
            "2    False\n",
            "3    False\n",
            "4    False\n",
            "5     True\n",
            "6    False\n",
            "7    False\n",
            "8     True\n",
            "9    False\n",
            "Name: Gender, dtype: bool\n",
            "0     True\n",
            "1     True\n",
            "2     True\n",
            "3     True\n",
            "4     True\n",
            "5    False\n",
            "6     True\n",
            "7     True\n",
            "8    False\n",
            "9     True\n",
            "Name: Gender, dtype: bool\n"
          ]
        }
      ]
    },
    {
      "cell_type": "code",
      "source": [
        "null_filter = df['Gender'].notnull()\n",
        "print(df[null_filter].head())"
      ],
      "metadata": {
        "colab": {
          "base_uri": "https://localhost:8080/"
        },
        "id": "WDVq_C3O-Jsr",
        "outputId": "3e47a577-311c-4692-fb03-7402ecfe88f0"
      },
      "execution_count": 6,
      "outputs": [
        {
          "output_type": "stream",
          "name": "stdout",
          "text": [
            "  First Name  Gender    Salary  Bonus % Senior Management             Team\n",
            "0    Douglas    Male   97308.0    6.945              True        Marketing\n",
            "1     Thomas    Male   61933.0      NaN              True              NaN\n",
            "2      Maria  Female  130590.0   11.858             False          Finance\n",
            "3      Jerry    Male       NaN    9.340              True          Finance\n",
            "4      Larry    Male  101004.0    1.389              True  Client Services\n"
          ]
        }
      ]
    },
    {
      "cell_type": "code",
      "source": [
        "print(df.isnull().values.any())"
      ],
      "metadata": {
        "colab": {
          "base_uri": "https://localhost:8080/"
        },
        "id": "8bL9lsgY-Qfb",
        "outputId": "9873e523-9c8b-4400-c9b2-34497ba95101"
      },
      "execution_count": 7,
      "outputs": [
        {
          "output_type": "stream",
          "name": "stdout",
          "text": [
            "True\n"
          ]
        }
      ]
    },
    {
      "cell_type": "code",
      "source": [
        "print(df.isnull().sum())"
      ],
      "metadata": {
        "colab": {
          "base_uri": "https://localhost:8080/"
        },
        "id": "9N9Hk3w9-Ws7",
        "outputId": "167c822f-baad-4dd9-f8b7-6110bfe218e6"
      },
      "execution_count": 8,
      "outputs": [
        {
          "output_type": "stream",
          "name": "stdout",
          "text": [
            "First Name            70\n",
            "Gender               149\n",
            "Salary                 5\n",
            "Bonus %                4\n",
            "Senior Management     71\n",
            "Team                  48\n",
            "dtype: int64\n"
          ]
        }
      ]
    },
    {
      "cell_type": "code",
      "source": [
        "# drop all rows with NaN values\n",
        "new_df = df.dropna(axis=0)\n",
        "# check if we have any NaN values in our dataset\n",
        "print(new_df.isnull().values.any())"
      ],
      "metadata": {
        "colab": {
          "base_uri": "https://localhost:8080/"
        },
        "id": "zqeUWx3K-fOq",
        "outputId": "1fb85bdc-69cd-4c67-b476-9cfd49febf01"
      },
      "execution_count": 9,
      "outputs": [
        {
          "output_type": "stream",
          "name": "stdout",
          "text": [
            "False\n"
          ]
        }
      ]
    },
    {
      "cell_type": "code",
      "source": [
        ""
      ],
      "metadata": {
        "id": "eD120zl--imq"
      },
      "execution_count": 9,
      "outputs": []
    }
  ]
}